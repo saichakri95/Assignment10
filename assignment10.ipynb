{
 "cells": [
  {
   "cell_type": "code",
   "execution_count": 1,
   "metadata": {},
   "outputs": [],
   "source": [
    "#question1\n",
    "class Solution:\n",
    "    def isPowerOfThree(self, n: int) -> bool:\n",
    "        if n <= 0:\n",
    "          return False\n",
    "        while n % 3 == 0:\n",
    "         n //= 3\n",
    "        return n == 1\n",
    "isPowerOfThree(27)\n",
    "\n"
   ]
  },
  {
   "cell_type": "code",
   "execution_count": 42,
   "metadata": {},
   "outputs": [
    {
     "name": "stdout",
     "output_type": "stream",
     "text": [
      "6\n"
     ]
    }
   ],
   "source": [
    "#question2\n",
    "def last_remaining_number(n):\n",
    "    arr = list(range(1, n + 1))  # Create the initial list [1, 2, 3, ..., n]\n",
    "\n",
    "    # Flag to determine the direction of removal\n",
    "    is_left_to_right = True\n",
    "\n",
    "    while len(arr) > 1:\n",
    "        if is_left_to_right:\n",
    "            arr = arr[1::2]  # Remove every other number starting from the second one\n",
    "        else:\n",
    "            arr = arr[:-1:2]  # Remove every other number starting from the last one\n",
    "\n",
    "        is_left_to_right = not is_left_to_right  # Toggle the direction for the next iteration\n",
    "\n",
    "    return arr[0]  # The last remaining number\n",
    "\n",
    "\n",
    "print(last_remaining_number(9))"
   ]
  },
  {
   "cell_type": "code",
   "execution_count": 44,
   "metadata": {},
   "outputs": [
    {
     "name": "stdout",
     "output_type": "stream",
     "text": [
      "\n",
      "c\n",
      "b\n",
      "bc\n",
      "a\n",
      "ac\n",
      "ab\n",
      "abc\n"
     ]
    }
   ],
   "source": [
    "#question 3\n",
    "def print_subsets(s, current=\"\", index=0):\n",
    "    if index == len(s):\n",
    "        print(current)\n",
    "        return\n",
    "\n",
    "    print_subsets(s, current, index + 1)\n",
    "    print_subsets(s, current + s[index], index + 1)\n",
    "\n",
    "\n",
    "set_str = \"abc\"\n",
    "print_subsets(set_str)\n"
   ]
  },
  {
   "cell_type": "code",
   "execution_count": 48,
   "metadata": {},
   "outputs": [
    {
     "data": {
      "text/plain": [
       "17"
      ]
     },
     "execution_count": 48,
     "metadata": {},
     "output_type": "execute_result"
    }
   ],
   "source": [
    "#question4\n",
    "def calculate_length(string):\n",
    "    if string == '':\n",
    "        return 0\n",
    "    else:\n",
    "        return 1 + calculate_length(string[1:])\n",
    "calculate_length(\"hi this is neuron\")"
   ]
  },
  {
   "cell_type": "code",
   "execution_count": 49,
   "metadata": {},
   "outputs": [
    {
     "name": "stdout",
     "output_type": "stream",
     "text": [
      "12\n"
     ]
    }
   ],
   "source": [
    "#question 8\n",
    "def count_consonants(string):\n",
    "    consonants = \"bcdfghjklmnpqrstvwxyzBCDFGHJKLMNPQRSTVWXYZ\"\n",
    "    count = 0\n",
    "    for char in string:\n",
    "        if char in consonants:\n",
    "            count += 1\n",
    "    return count\n",
    "\n",
    "# Example usage:\n",
    "input_string = \"geeksforgeeks portal\"\n",
    "consonant_count = count_consonants(input_string)\n",
    "print(consonant_count)\n"
   ]
  }
 ],
 "metadata": {
  "kernelspec": {
   "display_name": "Python 3",
   "language": "python",
   "name": "python3"
  },
  "language_info": {
   "codemirror_mode": {
    "name": "ipython",
    "version": 3
   },
   "file_extension": ".py",
   "mimetype": "text/x-python",
   "name": "python",
   "nbconvert_exporter": "python",
   "pygments_lexer": "ipython3",
   "version": "3.11.0"
  },
  "orig_nbformat": 4
 },
 "nbformat": 4,
 "nbformat_minor": 2
}
